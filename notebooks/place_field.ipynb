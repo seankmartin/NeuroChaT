{
 "cells": [
  {
   "cell_type": "code",
   "execution_count": 7,
   "source": [
    "import os\r\n",
    "from neurochat.nc_data import NData\r\n",
    "import numpy as np\r\n",
    "from neurochat.nc_spatial import NSpatial\r\n",
    "import matplotlib.pyplot as plt\r\n",
    "%matplotlib inline\r\n"
   ],
   "outputs": [],
   "metadata": {}
  },
  {
   "cell_type": "code",
   "execution_count": 8,
   "source": [
    "# Load the data\r\n",
    "def load_data():\r\n",
    "    dir_ = r'D:\\SubRet_recordings_imaging\\CSubRet1\\CSubRet1_recording\\CSR1_small sq\\04092017'\r\n",
    "    spike_file = os.path.join(dir_, \"04092017_CSubRet1_smallsq_d2_1.3\")\r\n",
    "    pos_file = os.path.join(dir_, \"04092017_CSubRet1_smallsq_d2_1_3.txt\")\r\n",
    "    lfp_file = os.path.join(dir_, \"04092017_CSubRet1_smallsq_d2_1.eeg\")\r\n",
    "    unit_no = 5\r\n",
    "    ndata = NData()\r\n",
    "    ndata.set_spike_file(spike_file)\r\n",
    "    ndata.set_spatial_file(pos_file)\r\n",
    "    ndata.set_lfp_file(lfp_file)\r\n",
    "    ndata.load()\r\n",
    "    ndata.set_unit_no(unit_no)\r\n",
    "\r\n",
    "    return ndata\r\n",
    "\r\n",
    "\r\n",
    "ndata = load_data()"
   ],
   "outputs": [],
   "metadata": {}
  },
  {
   "cell_type": "code",
   "execution_count": 9,
   "source": [
    "# Place field stuff\r\n",
    "bin_size = 3 # how big a bin is in cm\r\n",
    "# If neurochat cutting away data set chop_bound to 0\r\n",
    "chop_bound = 5\r\n",
    "filter_ = (\"b\", 5)\r\n",
    "\r\n",
    "firing_rate_needed_for_place_field = 0.2\r\n",
    "min_place_field_neighbours = 4\r\n",
    "\r\n",
    "# Calculates place field after smoothing if True\r\n",
    "smooth_place = False\r\n",
    "\r\n",
    "kwargs = {\r\n",
    "    \"pixel\": bin_size,\r\n",
    "    \"chop_bound\": chop_bound,\r\n",
    "    \"filter\": filter_,\r\n",
    "    \"fieldThresh\": firing_rate_needed_for_place_field,\r\n",
    "    \"minPlaceFieldNeighbours\": min_place_field_neighbours,\r\n",
    "    \"smoothPlace\": smooth_place,\r\n",
    "\r\n",
    "}\r\n",
    "place_data = ndata.place(**kwargs)"
   ],
   "outputs": [
    {
     "output_type": "stream",
     "name": "stdout",
     "text": [
      "(3, 3)\n",
      "1803.0\n",
      "15.5\n",
      "1864\n",
      "51.936472555029255\n"
     ]
    }
   ],
   "metadata": {}
  },
  {
   "cell_type": "code",
   "execution_count": 10,
   "source": [
    "# Inspect what you have at this point\r\n",
    "from pprint import pprint\r\n",
    "pprint(\"Place data:\\n\"+ str(place_data.keys()))\r\n",
    "pprint(\"Place results:\\n\"+ str(ndata.get_results().keys()))\r\n",
    "place_results = ndata.get_results()"
   ],
   "outputs": [
    {
     "output_type": "stream",
     "name": "stdout",
     "text": [
      "('Place data:\\n'\n",
      " \"dict_keys(['posX', 'posY', 'fmap', 'smoothMap', 'firingMap', 'tmap', \"\n",
      " \"'xedges', 'yedges', 'spikeLoc', 'placeField', 'largestPlaceGroup', \"\n",
      " \"'placeBoundary', 'indicesInPlaceField', 'centroid', 'spikeCounts'])\")\n",
      "('Place results:\\n'\n",
      " \"odict_keys(['Spatial Skaggs', 'Spatial Sparsity', 'Spatial Coherence', 'Peak \"\n",
      " \"Firing Rate', 'Found strong place field', 'Place field Centroid x', 'Place \"\n",
      " \"field Centroid y', 'Place field Boundary x', 'Place field Boundary y', \"\n",
      " \"'Number of Spikes in Place Field', 'Percentage of Spikes in Place Field'])\")\n"
     ]
    }
   ],
   "metadata": {}
  },
  {
   "cell_type": "code",
   "execution_count": 11,
   "source": [
    "# Inspect the output\r\n",
    "\r\n",
    "# 1. Were at least X bins found with high firing rate\r\n",
    "if place_results[\"Found strong place field\"]:\r\n",
    "    print(\"Found a place field\")\r\n",
    "else:\r\n",
    "    print(\"No strong place field found (> x bins with high firing rate)\")\r\n",
    "\r\n",
    "# Firing map stuff\r\n",
    "firing_map = place_data[\"firingMap\"]\r\n",
    "smoothed_firing_map = place_data[\"smoothMap\"]\r\n",
    "\r\n",
    "# Place field stuff\r\n",
    "largest_place_field_number = place_data[\"largestPlaceGroup\"]\r\n",
    "place_fields = place_data[\"placeField\"]\r\n",
    "\r\n",
    "fig, axes = plt.subplots(1, 3)\r\n",
    "# 1 Firing map\r\n",
    "axes[0].imshow(firing_map)\r\n",
    "axes[0].set_title(\"Firing Map\")\r\n",
    "\r\n",
    "# 2 Smooth map\r\n",
    "axes[1].imshow(smoothed_firing_map)\r\n",
    "axes[1].set_title(\"Smooth Firing Map\")\r\n",
    "\r\n",
    "# 3 Place field\r\n",
    "axes[2].imshow(place_fields)\r\n",
    "axes[2].set_title(\"Place fields\")\r\n"
   ],
   "outputs": [
    {
     "output_type": "stream",
     "name": "stdout",
     "text": [
      "Found a place field\n"
     ]
    },
    {
     "output_type": "execute_result",
     "data": {
      "text/plain": [
       "<matplotlib.image.AxesImage at 0x10ebef51b50>"
      ]
     },
     "metadata": {},
     "execution_count": 11
    },
    {
     "output_type": "execute_result",
     "data": {
      "text/plain": [
       "Text(0.5, 1.0, 'Firing Map')"
      ]
     },
     "metadata": {},
     "execution_count": 11
    },
    {
     "output_type": "execute_result",
     "data": {
      "text/plain": [
       "<matplotlib.image.AxesImage at 0x10ebef670a0>"
      ]
     },
     "metadata": {},
     "execution_count": 11
    },
    {
     "output_type": "execute_result",
     "data": {
      "text/plain": [
       "Text(0.5, 1.0, 'Smooth Firing Map')"
      ]
     },
     "metadata": {},
     "execution_count": 11
    },
    {
     "output_type": "execute_result",
     "data": {
      "text/plain": [
       "<matplotlib.image.AxesImage at 0x10ebf463310>"
      ]
     },
     "metadata": {},
     "execution_count": 11
    },
    {
     "output_type": "execute_result",
     "data": {
      "text/plain": [
       "Text(0.5, 1.0, 'Place fields')"
      ]
     },
     "metadata": {},
     "execution_count": 11
    },
    {
     "output_type": "display_data",
     "data": {
      "text/plain": [
       "<Figure size 432x288 with 3 Axes>"
      ],
      "image/png": "[encoded data removed]"
     },
     "metadata": {
      "needs_background": "light"
     }
    }
   ],
   "metadata": {}
  },
  {
   "cell_type": "code",
   "execution_count": 12,
   "source": [
    "print(place_fields.shape)\r\n",
    "pprint(place_fields)\r\n",
    "print(largest_place_field_number)\r\n",
    "print(\r\n",
    "    np.array(place_results[\"Place field Boundary x\"]) / bin_size, \r\n",
    "    np.array(place_results[\"Place field Boundary y\"]) / bin_size\r\n",
    ")\r\n",
    "pprint(np.array(np.where(place_fields == largest_place_field_number)))"
   ],
   "outputs": [
    {
     "output_type": "stream",
     "name": "stdout",
     "text": [
      "(17, 18)\n",
      "array([[0, 0, 0, 0, 0, 0, 0, 0, 0, 0, 0, 0, 0, 0, 0, 0, 1, 0],\n",
      "       [0, 0, 2, 0, 0, 0, 0, 0, 0, 0, 0, 0, 0, 0, 0, 1, 1, 0],\n",
      "       [0, 2, 2, 0, 0, 0, 0, 0, 0, 0, 0, 0, 0, 0, 0, 1, 1, 0],\n",
      "       [0, 2, 2, 2, 0, 0, 0, 0, 0, 0, 0, 0, 0, 1, 1, 1, 1, 0],\n",
      "       [0, 2, 2, 0, 0, 0, 0, 0, 0, 0, 0, 0, 0, 0, 0, 1, 1, 0],\n",
      "       [0, 2, 2, 2, 0, 0, 0, 0, 0, 0, 3, 0, 0, 0, 0, 0, 1, 0],\n",
      "       [2, 2, 2, 0, 0, 0, 0, 0, 3, 3, 3, 0, 0, 0, 0, 0, 0, 0],\n",
      "       [2, 0, 2, 0, 0, 0, 0, 3, 3, 3, 3, 3, 0, 0, 0, 0, 0, 0],\n",
      "       [2, 0, 0, 0, 0, 0, 0, 3, 3, 3, 3, 3, 0, 0, 0, 0, 0, 0],\n",
      "       [0, 0, 0, 0, 0, 0, 0, 3, 3, 3, 3, 3, 0, 0, 0, 0, 0, 0],\n",
      "       [0, 0, 0, 0, 0, 0, 0, 3, 3, 3, 3, 3, 0, 0, 0, 0, 0, 0],\n",
      "       [0, 0, 0, 0, 0, 0, 0, 0, 3, 3, 3, 3, 0, 0, 0, 0, 0, 0],\n",
      "       [0, 0, 0, 0, 0, 0, 0, 0, 0, 0, 0, 0, 0, 0, 0, 0, 0, 0],\n",
      "       [0, 0, 0, 0, 0, 0, 0, 0, 0, 0, 0, 0, 0, 0, 0, 0, 0, 0],\n",
      "       [0, 0, 0, 0, 0, 0, 0, 0, 0, 0, 0, 0, 0, 0, 0, 0, 0, 0],\n",
      "       [0, 0, 0, 0, 0, 0, 0, 0, 0, 0, 0, 0, 0, 0, 0, 0, 0, 0],\n",
      "       [0, 0, 0, 0, 0, 0, 0, 0, 0, 0, 0, 0, 0, 0, 0, 0, 0, 0]])\n",
      "3\n",
      "[ 7. 12.] [ 5. 12.]\n",
      "array([[ 5,  6,  6,  6,  7,  7,  7,  7,  7,  8,  8,  8,  8,  8,  9,  9,\n",
      "         9,  9,  9, 10, 10, 10, 10, 10, 11, 11, 11, 11],\n",
      "       [10,  8,  9, 10,  7,  8,  9, 10, 11,  7,  8,  9, 10, 11,  7,  8,\n",
      "         9, 10, 11,  7,  8,  9, 10, 11,  8,  9, 10, 11]], dtype=int64)\n"
     ]
    }
   ],
   "metadata": {}
  },
  {
   "cell_type": "code",
   "execution_count": 13,
   "source": [
    "# Assume multiple place fields\r\n",
    "tmap = place_data[\"tmap\"]\r\n",
    "\r\n",
    "# How many place fields\r\n",
    "num_place_fields = np.unique(place_fields).size - 1\r\n",
    "# num_place_fields = 1\r\n",
    "print(f\"num_place_fields: {num_place_fields}\")\r\n",
    "\r\n",
    "place_field_results = {}\r\n",
    "\r\n",
    "if smooth_place:\r\n",
    "    pmap = smoothed_firing_map\r\n",
    "else:\r\n",
    "    pmap = firing_map\r\n",
    "\r\n",
    "pmap[tmap == 0] = None\r\n",
    "spike_counts = place_data[\"spikeCounts\"].astype(int)\r\n",
    "\r\n",
    "# print(\"Place fields\")\r\n",
    "# print(place_fields)\r\n",
    "\r\n",
    "# print(\"Spike counts:\")\r\n",
    "# print(spike_counts)\r\n",
    "\r\n",
    "# print(\"\\nSpike count shape\")\r\n",
    "# pprint(spike_counts.shape)\r\n",
    "\r\n",
    "for i in range(1, num_place_fields + 1):\r\n",
    "    centroid = NSpatial.place_field_centroid(place_fields, pmap, i)\r\n",
    "    centroid = centroid * bin_size + (bin_size * 0.5)\r\n",
    "    # flip x and y\r\n",
    "    centroid = centroid[::-1]\r\n",
    "    bins_in_place_field = np.array(np.where(place_fields == i))\r\n",
    "    # print(\"\\nBins in place field:\")\r\n",
    "    # pprint(bins_in_place_field)\r\n",
    "    \r\n",
    "    place_field_size = bins_in_place_field.size\r\n",
    "\r\n",
    "    # Our own code - TODO update NC\r\n",
    "    spike_counts_place_field = spike_counts[\r\n",
    "        bins_in_place_field[0], bins_in_place_field[1]]\r\n",
    "    # print(\"\\nSpike counts in place field:\")\r\n",
    "    # pprint(spike_counts_place_field)\r\n",
    "\r\n",
    "    number_of_spikes_in_place_field = np.sum(spike_counts_place_field)\r\n",
    "\r\n",
    "    max_firing_rate_in_place_field = pmap[\r\n",
    "        bins_in_place_field[0], bins_in_place_field[1]].max()\r\n",
    "\r\n",
    "    results = {\r\n",
    "        \"centroid\" : centroid, # this in cm,\r\n",
    "        \"place_field_size\" : place_field_size, # this not in cm\r\n",
    "        \"number_of_spikes_in_place_field\": number_of_spikes_in_place_field,\r\n",
    "        \"max_firing_rate_in_place_field\": max_firing_rate_in_place_field,\r\n",
    "    }\r\n",
    "\r\n",
    "    place_field_results[i] = results\r\n",
    "\r\n",
    "pprint(place_field_results)"
   ],
   "outputs": [
    {
     "output_type": "stream",
     "name": "stdout",
     "text": [
      "num_place_fields: 3\n",
      "{1: {'centroid': array([47.75709237,  8.5622741 ]),\n",
      "     'max_firing_rate_in_place_field': 12.941176470588236,\n",
      "     'number_of_spikes_in_place_field': 144,\n",
      "     'place_field_size': 24},\n",
      " 2: {'centroid': array([ 5.34198397, 14.55537619]),\n",
      "     'max_firing_rate_in_place_field': 14.0,\n",
      "     'number_of_spikes_in_place_field': 129,\n",
      "     'place_field_size': 34},\n",
      " 3: {'centroid': array([28.40953871, 26.76468066]),\n",
      "     'max_firing_rate_in_place_field': 15.5,\n",
      "     'number_of_spikes_in_place_field': 1803,\n",
      "     'place_field_size': 56}}\n"
     ]
    }
   ],
   "metadata": {}
  }
 ],
 "metadata": {
  "orig_nbformat": 4,
  "language_info": {
   "name": "python"
  }
 },
 "nbformat": 4,
 "nbformat_minor": 2
}